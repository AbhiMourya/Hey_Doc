{
 "cells": [
  {
   "attachments": {},
   "cell_type": "markdown",
   "metadata": {},
   "source": [
    "#### Import required libraries:"
   ]
  },
  {
   "cell_type": "code",
   "execution_count": 55,
   "metadata": {},
   "outputs": [],
   "source": [
    "import os\n",
    "from sklearn.model_selection import train_test_split\n",
    "from tensorflow.keras.utils import load_img, img_to_array , to_categorical\n",
    "import numpy as np\n",
    "import tensorflow as tf\n",
    "import matplotlib.pyplot as plt\n",
    "\n",
    "from tensorflow.keras.models import Sequential\n",
    "from tensorflow.keras.layers import Dense,Flatten,MaxPool2D,Conv2D\n",
    "from tensorflow.keras.optimizers import Adam\n",
    "from keras.preprocessing.image import ImageDataGenerator\n",
    "from sklearn.metrics import classification_report,confusion_matrix,accuracy_score"
   ]
  },
  {
   "attachments": {},
   "cell_type": "markdown",
   "metadata": {},
   "source": [
    "#### Initializing data folders"
   ]
  },
  {
   "cell_type": "code",
   "execution_count": 56,
   "metadata": {},
   "outputs": [],
   "source": [
    "dir_sp_train = \"drawings/spiral/training\"\n",
    "dir_sp_test = \"drawings/spiral/testing\"\n",
    "dir_wa_train = \"drawings/wave/training\"\n",
    "dir_wa_test = \"drawings/wave/testing\""
   ]
  },
  {
   "cell_type": "code",
   "execution_count": 57,
   "metadata": {},
   "outputs": [
    {
     "name": "stdout",
     "output_type": "stream",
     "text": [
      "['healthy', 'parkinson']\n"
     ]
    }
   ],
   "source": [
    "Name = []\n",
    "for file in os.listdir(dir_sp_train):\n",
    "    Name+=[file]\n",
    "print (Name)"
   ]
  },
  {
   "cell_type": "code",
   "execution_count": 58,
   "metadata": {},
   "outputs": [],
   "source": [
    "# Mapping image to tag\n",
    "N = []\n",
    "for i in range(len(Name)):\n",
    "    N+=[i]\n",
    "\n",
    "reverse_mapping = dict(zip(N,Name))\n",
    "\n",
    "#function for getting 0(healthy) and 1(parkinson)\n",
    "def mapper(value):\n",
    "    return reverse_mapping[value]"
   ]
  },
  {
   "cell_type": "code",
   "execution_count": 59,
   "metadata": {},
   "outputs": [],
   "source": [
    "# Creating training dataset for spiral images \n",
    "dataset_sp = []\n",
    "count = 0\n",
    "for file in os.listdir(dir_sp_train):\n",
    "    path = os.path.join(dir_sp_train,file)\n",
    "    for im in os.listdir(path):\n",
    "        image = load_img(os.path.join(path,im),grayscale=False,color_mode = 'rgb' ,target_size = (100,100))\n",
    "        image = img_to_array(image)\n",
    "        image = image/255.0\n",
    "        dataset_sp.append([image,count])\n",
    "    count+=1\n",
    "\n",
    "# Creating testing dataset for spiral images \n",
    "testset_sp = []\n",
    "count = 0\n",
    "for file in os.listdir(dir_sp_test):\n",
    "    path = os.path.join(dir_sp_test,file)\n",
    "    for im in os.listdir(path):\n",
    "        image = load_img(os.path.join(path,im),grayscale=False,color_mode = 'rgb' ,target_size = (100,100))\n",
    "        image = img_to_array(image)\n",
    "        image = image/255.0\n",
    "        testset_sp.append([image,count])\n",
    "    count+=1"
   ]
  },
  {
   "cell_type": "code",
   "execution_count": 60,
   "metadata": {},
   "outputs": [],
   "source": [
    "# Creating training dataset for wave images \n",
    "dataset_wa = []\n",
    "count = 0\n",
    "for file in os.listdir(dir_wa_train):\n",
    "    path = os.path.join(dir_wa_train,file)\n",
    "    for im in os.listdir(path):\n",
    "        image = load_img(os.path.join(path,im),grayscale=False,color_mode = 'rgb' ,target_size = (100,100))\n",
    "        image = img_to_array(image)\n",
    "        image = image/255.0\n",
    "        dataset_wa.append([image,count])\n",
    "    count+=1\n",
    "\n",
    "# Creating testing dataset for wave images \n",
    "testset_wa = []\n",
    "count = 0\n",
    "for file in os.listdir(dir_wa_test):\n",
    "    path = os.path.join(dir_wa_test,file)\n",
    "    for im in os.listdir(path):\n",
    "        image = load_img(os.path.join(path,im),grayscale=False,color_mode = 'rgb' ,target_size = (100,100))\n",
    "        image = img_to_array(image)\n",
    "        image = image/255.0\n",
    "        testset_wa.append([image,count])\n",
    "    count+=1\n",
    "        "
   ]
  },
  {
   "cell_type": "code",
   "execution_count": 61,
   "metadata": {},
   "outputs": [],
   "source": [
    "# Spliting image and it's label\n",
    "data_sp,lables_sp0 = zip(*dataset_sp)\n",
    "test_sp,tlables_sp0 = zip(*testset_sp)\n",
    "\n",
    "data_wa,lables_wa0 = zip(*dataset_wa)\n",
    "test_wa,tlables_wa0 = zip(*testset_wa)"
   ]
  },
  {
   "cell_type": "code",
   "execution_count": 62,
   "metadata": {},
   "outputs": [],
   "source": [
    "# Converting labels to numerical(binary) for spiral images\n",
    "lables_sp1 = to_categorical(lables_sp0)\n",
    "data_sp = np.array(data_sp)\n",
    "lables_sp = np.array(lables_sp1)\n",
    "\n",
    "tlables_sp1 = to_categorical(tlables_sp0)\n",
    "test_sp = np.array(test_sp)\n",
    "tlables_sp = np.array(tlables_sp1)"
   ]
  },
  {
   "cell_type": "code",
   "execution_count": 63,
   "metadata": {},
   "outputs": [],
   "source": [
    "# Converting labels to numerical(binary) data for wave images\n",
    "lables_wa1 = to_categorical(lables_wa0)\n",
    "data_wa = np.array(data_wa)\n",
    "lables_wa = np.array(lables_wa1)\n",
    "\n",
    "tlables_wa1 = to_categorical(tlables_wa0)\n",
    "test_wa = np.array(test_wa)\n",
    "tlables_wa = np.array(tlables_wa1)"
   ]
  },
  {
   "cell_type": "code",
   "execution_count": 64,
   "metadata": {},
   "outputs": [],
   "source": [
    "# Spiliting data into train and validation data\n",
    "trainx_sp,validx_sp,trainy_sp,validy_sp = train_test_split(data_sp,lables_sp,test_size=0.2,random_state=44)\n",
    "trainx_wa,validx_wa,trainy_wa,validy_wa = train_test_split(data_wa,lables_wa,test_size=0.2,random_state=44)"
   ]
  },
  {
   "cell_type": "code",
   "execution_count": 65,
   "metadata": {},
   "outputs": [
    {
     "name": "stdout",
     "output_type": "stream",
     "text": [
      "(57, 100, 100, 3)\n",
      "(15, 100, 100, 3)\n",
      "(57, 2)\n",
      "(15, 2)\n"
     ]
    }
   ],
   "source": [
    "# Viewing shape of data of spiral\n",
    "print(trainx_sp.shape)\n",
    "print(validx_sp.shape)\n",
    "print(trainy_sp.shape)\n",
    "print(validy_sp.shape)"
   ]
  },
  {
   "cell_type": "code",
   "execution_count": 66,
   "metadata": {},
   "outputs": [
    {
     "name": "stdout",
     "output_type": "stream",
     "text": [
      "(57, 100, 100, 3)\n",
      "(15, 100, 100, 3)\n",
      "(57, 2)\n",
      "(15, 2)\n"
     ]
    }
   ],
   "source": [
    "# Viewing shape of data of wave\n",
    "print(trainx_wa.shape)\n",
    "print(validx_wa.shape)\n",
    "print(trainy_wa.shape)\n",
    "print(validy_wa.shape)"
   ]
  },
  {
   "attachments": {},
   "cell_type": "markdown",
   "metadata": {},
   "source": [
    "### CNN Model:"
   ]
  },
  {
   "cell_type": "code",
   "execution_count": 67,
   "metadata": {},
   "outputs": [],
   "source": [
    "# CNN Architecture:\n",
    "# model = Sequential()\n",
    "\n",
    "# model.add(Conv2D(filters=32, kernel_size = (5,5),activation='relu',input_shape=(100,100,3)))\n",
    "# model.add(MaxPool2D(pool_size=(2,2)))\n",
    "\n",
    "# model.add(Conv2D(filters=64, kernel_size = (5,5),activation='relu'))\n",
    "# model.add(MaxPool2D(pool_size=(2,2)))\n",
    "\n",
    "# model.add(Flatten())\n",
    "# model.add(Dense(units=64,activation=\"relu\"))\n",
    "# model.add(Dense(units=2,activation=\"softmax\"))\n",
    "\n",
    "# model.compile(loss='categorical_crossentropy', optimizer = Adam(learning_rate=0.001), metrics=['accuracy'])\n",
    "\n",
    "# print(\"Model Summary\")\n",
    "# model.summary()"
   ]
  },
  {
   "cell_type": "code",
   "execution_count": 68,
   "metadata": {},
   "outputs": [],
   "source": [
    "# training spiral and wave model:\n",
    "# epoch = 100\n",
    "# batch_size = 32\n",
    "\n",
    "# print(\"Start Training\",'\\n')\n",
    "# hist_0 = model.fit(trainx_sp,trainy_sp,batch_size=batch_size,epochs=epoch,validation_data=(validx_sp, validy_sp))\n",
    "# hist_1 = model.fit(trainx_wa,trainy_wa,batch_size=batch_size,epochs=epoch,validation_data=(validx_wa, validy_wa))\n",
    "# print(\"Training end\",'\\n')\n",
    "\n",
    "# model.save(\"CNN_Model.h5\")"
   ]
  },
  {
   "attachments": {},
   "cell_type": "markdown",
   "metadata": {},
   "source": [
    "### Visualizing accuracy and loss of training and validation dataset:"
   ]
  },
  {
   "cell_type": "code",
   "execution_count": 69,
   "metadata": {},
   "outputs": [],
   "source": [
    "# for Spiral dataset:\n",
    "# figure = plt.figure(figsize=(10,10))\n",
    "# plt.plot(hist_0.history['accuracy'],label= 'Train Accuracy')\n",
    "# plt.plot(hist_0.history['val_accuracy'],label= 'Test Accuracy')\n",
    "# plt.title(\"Model Accuracy for Spiral\")\n",
    "# plt.xlabel(\"Epochs\")\n",
    "# plt.ylabel(\"Accuracy\")\n",
    "# plt.legend(loc='upper left')\n",
    "# plt.show()\n",
    "\n",
    "# figure2 = plt.figure(figsize=(10,10))\n",
    "# plt.plot(hist_0.history['loss'],label= 'Train loss')\n",
    "# plt.plot(hist_0.history['val_loss'],label= 'Test loss')\n",
    "# plt.title(\"Model loss for Spiral\")\n",
    "# plt.xlabel(\"Epochs\")\n",
    "# plt.ylabel(\"Loss\")\n",
    "# plt.legend(loc='upper left')\n",
    "# plt.show()"
   ]
  },
  {
   "cell_type": "code",
   "execution_count": 70,
   "metadata": {},
   "outputs": [],
   "source": [
    "# for Wave dataset:\n",
    "# figure = plt.figure(figsize=(10,10))\n",
    "# plt.plot(hist_1.history['accuracy'],label= 'Train Accuracy')\n",
    "# plt.plot(hist_1.history['val_accuracy'],label= 'Test Accuracy')\n",
    "# plt.title(\"Model Accuracy for Wave\")\n",
    "# plt.xlabel(\"Epochs\")\n",
    "# plt.ylabel(\"Accuracy\")\n",
    "# plt.legend(loc='upper left')\n",
    "# plt.show()\n",
    "\n",
    "# figure2 = plt.figure(figsize=(10,10))\n",
    "# plt.plot(hist_1.history['loss'],label= 'Train loss')\n",
    "# plt.plot(hist_1.history['val_loss'],label= 'Test loss')\n",
    "# plt.title(\"Model loss for Wave\")\n",
    "# plt.xlabel(\"Epochs\")\n",
    "# plt.ylabel(\"Loss\")\n",
    "# plt.legend(loc='upper left')\n",
    "# plt.show()"
   ]
  },
  {
   "attachments": {},
   "cell_type": "markdown",
   "metadata": {},
   "source": [
    "### Conclusion of CNN model:\n",
    "Overfitting occurs because the model cannot generalize and fits too closely to the training dataset. Overfitting happens due to several reasons, here, The training data size is too small and does not contain enough data samples to accurately represent all possible input data values."
   ]
  },
  {
   "cell_type": "code",
   "execution_count": 71,
   "metadata": {},
   "outputs": [],
   "source": [
    "datagen = ImageDataGenerator(horizontal_flip=True,vertical_flip=True,rotation_range=20,zoom_range=0.2,\n",
    "width_shift_range=0.2,height_shift_range=0.2,shear_range=0.1,fill_mode=\"nearest\")"
   ]
  },
  {
   "cell_type": "code",
   "execution_count": 72,
   "metadata": {},
   "outputs": [],
   "source": [
    "pretrained_model3 = tf.keras.applications.ResNet152(input_shape=(100,100,3),include_top=False,weights='imagenet',pooling='avg')\n",
    "pretrained_model3.trainable = False\n",
    "\n",
    "pretrained_model4 = tf.keras.applications.ResNet152(input_shape=(100,100,3),include_top=False,weights='imagenet',pooling='avg')\n",
    "pretrained_model4.trainable = False"
   ]
  },
  {
   "cell_type": "code",
   "execution_count": 73,
   "metadata": {},
   "outputs": [],
   "source": [
    "inputs3 = pretrained_model3.input\n",
    "x3 = tf.keras.layers.Dense(128,activation='relu')(pretrained_model3.output)\n",
    "outputs3 = tf.keras.layers.Dense(2,activation='softmax')(x3)\n",
    "model3 = tf.keras.Model(inputs=inputs3, outputs=outputs3)\n",
    "\n",
    "inputs4 = pretrained_model4.input\n",
    "x4 = tf.keras.layers.Dense(128,activation='relu')(pretrained_model4.output)\n",
    "outputs4 = tf.keras.layers.Dense(2,activation='softmax')(x4)\n",
    "model4 = tf.keras.Model(inputs=inputs4, outputs=outputs4)"
   ]
  },
  {
   "cell_type": "code",
   "execution_count": 74,
   "metadata": {},
   "outputs": [],
   "source": [
    "model3.compile(optimizer='adam',loss='categorical_crossentropy',metrics=['accuracy'])\n",
    "model4.compile(optimizer='adam',loss='categorical_crossentropy',metrics=['accuracy'])"
   ]
  },
  {
   "cell_type": "code",
   "execution_count": 75,
   "metadata": {},
   "outputs": [
    {
     "name": "stdout",
     "output_type": "stream",
     "text": [
      "Epoch 1/100\n",
      "2/2 [==============================] - 17s 4s/step - loss: 1.4260 - accuracy: 0.4912 - val_loss: 0.9320 - val_accuracy: 0.6000\n",
      "Epoch 2/100\n",
      "2/2 [==============================] - 2s 1s/step - loss: 1.1079 - accuracy: 0.3860 - val_loss: 1.2042 - val_accuracy: 0.4000\n",
      "Epoch 3/100\n",
      "2/2 [==============================] - 2s 1s/step - loss: 1.0472 - accuracy: 0.5263 - val_loss: 1.0543 - val_accuracy: 0.4000\n",
      "Epoch 4/100\n",
      "2/2 [==============================] - 2s 1s/step - loss: 0.7788 - accuracy: 0.5263 - val_loss: 0.6748 - val_accuracy: 0.6000\n",
      "Epoch 5/100\n",
      "2/2 [==============================] - 2s 1s/step - loss: 0.8287 - accuracy: 0.4737 - val_loss: 0.7699 - val_accuracy: 0.6000\n",
      "Epoch 6/100\n",
      "2/2 [==============================] - 2s 1s/step - loss: 0.8701 - accuracy: 0.4737 - val_loss: 0.6730 - val_accuracy: 0.6000\n",
      "Epoch 7/100\n",
      "2/2 [==============================] - 2s 1s/step - loss: 0.7202 - accuracy: 0.4737 - val_loss: 0.8672 - val_accuracy: 0.4000\n",
      "Epoch 8/100\n",
      "2/2 [==============================] - 2s 1s/step - loss: 0.8317 - accuracy: 0.5263 - val_loss: 0.9731 - val_accuracy: 0.4000\n",
      "Epoch 9/100\n",
      "2/2 [==============================] - 2s 1s/step - loss: 0.7929 - accuracy: 0.5263 - val_loss: 0.7310 - val_accuracy: 0.4000\n",
      "Epoch 10/100\n",
      "2/2 [==============================] - 2s 1s/step - loss: 0.7103 - accuracy: 0.4737 - val_loss: 0.6775 - val_accuracy: 0.6000\n",
      "Epoch 11/100\n",
      "2/2 [==============================] - 2s 1s/step - loss: 0.7719 - accuracy: 0.4737 - val_loss: 0.6784 - val_accuracy: 0.6000\n",
      "Epoch 12/100\n",
      "2/2 [==============================] - 2s 1s/step - loss: 0.7506 - accuracy: 0.4737 - val_loss: 0.7194 - val_accuracy: 0.4000\n",
      "Epoch 13/100\n",
      "2/2 [==============================] - 2s 1s/step - loss: 0.6926 - accuracy: 0.5263 - val_loss: 0.8034 - val_accuracy: 0.4000\n",
      "Epoch 14/100\n",
      "2/2 [==============================] - 2s 1s/step - loss: 0.7305 - accuracy: 0.5263 - val_loss: 0.7363 - val_accuracy: 0.4000\n",
      "Epoch 15/100\n",
      "2/2 [==============================] - 2s 1s/step - loss: 0.6916 - accuracy: 0.5263 - val_loss: 0.6960 - val_accuracy: 0.3333\n",
      "Epoch 16/100\n",
      "2/2 [==============================] - 2s 1s/step - loss: 0.7006 - accuracy: 0.4561 - val_loss: 0.6780 - val_accuracy: 0.6000\n",
      "Epoch 17/100\n",
      "2/2 [==============================] - 2s 1s/step - loss: 0.6979 - accuracy: 0.4737 - val_loss: 0.6960 - val_accuracy: 0.4000\n",
      "Epoch 18/100\n",
      "2/2 [==============================] - 2s 1s/step - loss: 0.6900 - accuracy: 0.5614 - val_loss: 0.7346 - val_accuracy: 0.4000\n",
      "Epoch 19/100\n",
      "2/2 [==============================] - 2s 1s/step - loss: 0.6918 - accuracy: 0.5263 - val_loss: 0.7315 - val_accuracy: 0.4000\n",
      "Epoch 20/100\n",
      "2/2 [==============================] - 2s 1s/step - loss: 0.6974 - accuracy: 0.5263 - val_loss: 0.7055 - val_accuracy: 0.4000\n",
      "Epoch 21/100\n",
      "2/2 [==============================] - 2s 1s/step - loss: 0.6899 - accuracy: 0.5439 - val_loss: 0.7076 - val_accuracy: 0.4000\n",
      "Epoch 22/100\n",
      "2/2 [==============================] - 2s 1s/step - loss: 0.6893 - accuracy: 0.5263 - val_loss: 0.7170 - val_accuracy: 0.4000\n",
      "Epoch 23/100\n",
      "2/2 [==============================] - 2s 1s/step - loss: 0.7001 - accuracy: 0.5263 - val_loss: 0.7306 - val_accuracy: 0.4000\n",
      "Epoch 24/100\n",
      "2/2 [==============================] - 2s 1s/step - loss: 0.6862 - accuracy: 0.5263 - val_loss: 0.7019 - val_accuracy: 0.4000\n",
      "Epoch 25/100\n",
      "2/2 [==============================] - 2s 1s/step - loss: 0.6885 - accuracy: 0.5439 - val_loss: 0.6897 - val_accuracy: 0.6667\n",
      "Epoch 26/100\n",
      "2/2 [==============================] - 2s 1s/step - loss: 0.6888 - accuracy: 0.4912 - val_loss: 0.7087 - val_accuracy: 0.4667\n",
      "Epoch 27/100\n",
      "2/2 [==============================] - 2s 1s/step - loss: 0.6890 - accuracy: 0.4912 - val_loss: 0.7389 - val_accuracy: 0.4000\n",
      "Epoch 28/100\n",
      "2/2 [==============================] - 2s 1s/step - loss: 0.6888 - accuracy: 0.5263 - val_loss: 0.7322 - val_accuracy: 0.4000\n",
      "Epoch 29/100\n",
      "2/2 [==============================] - 2s 1s/step - loss: 0.6864 - accuracy: 0.5263 - val_loss: 0.7342 - val_accuracy: 0.4000\n",
      "Epoch 30/100\n",
      "2/2 [==============================] - 2s 1s/step - loss: 0.6874 - accuracy: 0.5263 - val_loss: 0.7172 - val_accuracy: 0.4000\n",
      "Epoch 31/100\n",
      "2/2 [==============================] - 3s 1s/step - loss: 0.6875 - accuracy: 0.5263 - val_loss: 0.7079 - val_accuracy: 0.4667\n",
      "Epoch 32/100\n",
      "2/2 [==============================] - 3s 2s/step - loss: 0.6865 - accuracy: 0.5965 - val_loss: 0.7377 - val_accuracy: 0.4000\n",
      "Epoch 33/100\n",
      "2/2 [==============================] - 3s 1s/step - loss: 0.6864 - accuracy: 0.5263 - val_loss: 0.7397 - val_accuracy: 0.4000\n",
      "Epoch 34/100\n",
      "2/2 [==============================] - 2s 1s/step - loss: 0.6899 - accuracy: 0.5263 - val_loss: 0.7440 - val_accuracy: 0.4000\n",
      "Epoch 35/100\n",
      "2/2 [==============================] - 2s 1s/step - loss: 0.6831 - accuracy: 0.5263 - val_loss: 0.7188 - val_accuracy: 0.4667\n",
      "Epoch 36/100\n",
      "2/2 [==============================] - 2s 1s/step - loss: 0.6914 - accuracy: 0.5614 - val_loss: 0.7040 - val_accuracy: 0.4667\n",
      "Epoch 37/100\n",
      "2/2 [==============================] - 2s 1s/step - loss: 0.6935 - accuracy: 0.4912 - val_loss: 0.7400 - val_accuracy: 0.4000\n",
      "Epoch 38/100\n",
      "2/2 [==============================] - 2s 1s/step - loss: 0.6891 - accuracy: 0.5088 - val_loss: 0.7210 - val_accuracy: 0.4667\n",
      "Epoch 39/100\n",
      "2/2 [==============================] - 2s 1s/step - loss: 0.6944 - accuracy: 0.6140 - val_loss: 0.7347 - val_accuracy: 0.4667\n",
      "Epoch 40/100\n",
      "2/2 [==============================] - 2s 2s/step - loss: 0.6872 - accuracy: 0.6316 - val_loss: 0.7654 - val_accuracy: 0.4000\n",
      "Epoch 41/100\n",
      "2/2 [==============================] - 2s 1s/step - loss: 0.6807 - accuracy: 0.5263 - val_loss: 0.7779 - val_accuracy: 0.4000\n",
      "Epoch 42/100\n",
      "2/2 [==============================] - 2s 1s/step - loss: 0.6857 - accuracy: 0.5263 - val_loss: 0.7355 - val_accuracy: 0.4667\n",
      "Epoch 43/100\n",
      "2/2 [==============================] - 2s 1s/step - loss: 0.6805 - accuracy: 0.6316 - val_loss: 0.7096 - val_accuracy: 0.4667\n",
      "Epoch 44/100\n",
      "2/2 [==============================] - 2s 1s/step - loss: 0.6958 - accuracy: 0.4561 - val_loss: 0.7074 - val_accuracy: 0.4667\n",
      "Epoch 45/100\n",
      "2/2 [==============================] - 2s 1s/step - loss: 0.6905 - accuracy: 0.5439 - val_loss: 0.7809 - val_accuracy: 0.4000\n",
      "Epoch 46/100\n",
      "2/2 [==============================] - 3s 3s/step - loss: 0.6909 - accuracy: 0.5263 - val_loss: 0.8057 - val_accuracy: 0.4000\n",
      "Epoch 47/100\n",
      "2/2 [==============================] - 6s 2s/step - loss: 0.6857 - accuracy: 0.5263 - val_loss: 0.7319 - val_accuracy: 0.4667\n",
      "Epoch 48/100\n",
      "2/2 [==============================] - 3s 2s/step - loss: 0.6853 - accuracy: 0.5965 - val_loss: 0.7107 - val_accuracy: 0.4667\n",
      "Epoch 49/100\n",
      "2/2 [==============================] - 3s 2s/step - loss: 0.6851 - accuracy: 0.5789 - val_loss: 0.7677 - val_accuracy: 0.4000\n",
      "Epoch 50/100\n",
      "2/2 [==============================] - 4s 3s/step - loss: 0.6905 - accuracy: 0.5263 - val_loss: 0.7855 - val_accuracy: 0.4000\n",
      "Epoch 51/100\n",
      "2/2 [==============================] - 4s 2s/step - loss: 0.6957 - accuracy: 0.5439 - val_loss: 0.7561 - val_accuracy: 0.4667\n",
      "Epoch 52/100\n",
      "2/2 [==============================] - 3s 2s/step - loss: 0.6878 - accuracy: 0.6140 - val_loss: 0.7471 - val_accuracy: 0.4667\n",
      "Epoch 53/100\n",
      "2/2 [==============================] - 3s 2s/step - loss: 0.6776 - accuracy: 0.6842 - val_loss: 0.7584 - val_accuracy: 0.4667\n",
      "Epoch 54/100\n",
      "2/2 [==============================] - 3s 2s/step - loss: 0.6859 - accuracy: 0.5614 - val_loss: 0.7627 - val_accuracy: 0.4667\n",
      "Epoch 55/100\n",
      "2/2 [==============================] - 2s 2s/step - loss: 0.6799 - accuracy: 0.7193 - val_loss: 0.7723 - val_accuracy: 0.4667\n",
      "Epoch 56/100\n",
      "2/2 [==============================] - 2s 2s/step - loss: 0.6878 - accuracy: 0.5614 - val_loss: 0.7852 - val_accuracy: 0.4000\n",
      "Epoch 57/100\n",
      "2/2 [==============================] - 2s 2s/step - loss: 0.6824 - accuracy: 0.5965 - val_loss: 0.7406 - val_accuracy: 0.4667\n",
      "Epoch 58/100\n",
      "2/2 [==============================] - 2s 2s/step - loss: 0.6932 - accuracy: 0.5088 - val_loss: 0.7349 - val_accuracy: 0.4000\n",
      "Epoch 59/100\n",
      "2/2 [==============================] - 2s 2s/step - loss: 0.6801 - accuracy: 0.5789 - val_loss: 0.8183 - val_accuracy: 0.4000\n",
      "Epoch 60/100\n",
      "2/2 [==============================] - 2s 1s/step - loss: 0.6982 - accuracy: 0.5439 - val_loss: 0.7952 - val_accuracy: 0.4000\n",
      "Epoch 61/100\n",
      "2/2 [==============================] - 2s 1s/step - loss: 0.6878 - accuracy: 0.5439 - val_loss: 0.7583 - val_accuracy: 0.4667\n",
      "Epoch 62/100\n",
      "2/2 [==============================] - 2s 2s/step - loss: 0.6807 - accuracy: 0.6316 - val_loss: 0.7632 - val_accuracy: 0.4667\n",
      "Epoch 63/100\n",
      "2/2 [==============================] - 2s 1s/step - loss: 0.6791 - accuracy: 0.5614 - val_loss: 0.7667 - val_accuracy: 0.4667\n",
      "Epoch 64/100\n",
      "2/2 [==============================] - 2s 1s/step - loss: 0.6906 - accuracy: 0.5614 - val_loss: 0.8250 - val_accuracy: 0.4000\n",
      "Epoch 65/100\n",
      "2/2 [==============================] - 2s 1s/step - loss: 0.6878 - accuracy: 0.5263 - val_loss: 0.7569 - val_accuracy: 0.4667\n",
      "Epoch 66/100\n",
      "2/2 [==============================] - 2s 1s/step - loss: 0.7016 - accuracy: 0.5088 - val_loss: 0.7296 - val_accuracy: 0.4667\n",
      "Epoch 67/100\n",
      "2/2 [==============================] - 2s 2s/step - loss: 0.6691 - accuracy: 0.6316 - val_loss: 0.8104 - val_accuracy: 0.4000\n",
      "Epoch 68/100\n",
      "2/2 [==============================] - 3s 2s/step - loss: 0.6782 - accuracy: 0.5088 - val_loss: 0.8394 - val_accuracy: 0.4000\n",
      "Epoch 69/100\n",
      "2/2 [==============================] - 2s 1s/step - loss: 0.6881 - accuracy: 0.5263 - val_loss: 0.7781 - val_accuracy: 0.4667\n",
      "Epoch 70/100\n",
      "2/2 [==============================] - 2s 1s/step - loss: 0.6852 - accuracy: 0.5439 - val_loss: 0.7280 - val_accuracy: 0.4667\n",
      "Epoch 71/100\n",
      "2/2 [==============================] - 7s 4s/step - loss: 0.6840 - accuracy: 0.5439 - val_loss: 0.7848 - val_accuracy: 0.4667\n",
      "Epoch 72/100\n",
      "2/2 [==============================] - 3s 2s/step - loss: 0.6859 - accuracy: 0.6140 - val_loss: 0.8436 - val_accuracy: 0.4000\n",
      "Epoch 73/100\n",
      "2/2 [==============================] - 3s 2s/step - loss: 0.6918 - accuracy: 0.5263 - val_loss: 0.7970 - val_accuracy: 0.4667\n",
      "Epoch 74/100\n",
      "2/2 [==============================] - 3s 2s/step - loss: 0.6958 - accuracy: 0.5088 - val_loss: 0.7346 - val_accuracy: 0.4667\n",
      "Epoch 75/100\n",
      "2/2 [==============================] - 3s 2s/step - loss: 0.6821 - accuracy: 0.5439 - val_loss: 0.7791 - val_accuracy: 0.4667\n",
      "Epoch 76/100\n",
      "2/2 [==============================] - 3s 2s/step - loss: 0.7733 - accuracy: 0.4561 - val_loss: 0.9494 - val_accuracy: 0.4000\n",
      "Epoch 77/100\n",
      "2/2 [==============================] - 3s 2s/step - loss: 0.7041 - accuracy: 0.5263 - val_loss: 0.7787 - val_accuracy: 0.4667\n",
      "Epoch 78/100\n",
      "2/2 [==============================] - 3s 2s/step - loss: 0.6924 - accuracy: 0.5088 - val_loss: 0.7007 - val_accuracy: 0.6000\n",
      "Epoch 79/100\n",
      "2/2 [==============================] - 3s 1s/step - loss: 0.7094 - accuracy: 0.5088 - val_loss: 0.7877 - val_accuracy: 0.4667\n",
      "Epoch 80/100\n",
      "2/2 [==============================] - 3s 2s/step - loss: 0.6827 - accuracy: 0.6140 - val_loss: 0.9477 - val_accuracy: 0.4000\n",
      "Epoch 81/100\n",
      "2/2 [==============================] - 3s 2s/step - loss: 0.7034 - accuracy: 0.5263 - val_loss: 0.8213 - val_accuracy: 0.4667\n",
      "Epoch 82/100\n",
      "2/2 [==============================] - 3s 2s/step - loss: 0.6745 - accuracy: 0.5789 - val_loss: 0.7357 - val_accuracy: 0.4667\n",
      "Epoch 83/100\n",
      "2/2 [==============================] - 3s 1s/step - loss: 0.6872 - accuracy: 0.5263 - val_loss: 0.7521 - val_accuracy: 0.4667\n",
      "Epoch 84/100\n",
      "2/2 [==============================] - 3s 2s/step - loss: 0.6822 - accuracy: 0.5789 - val_loss: 0.8762 - val_accuracy: 0.4000\n",
      "Epoch 85/100\n",
      "2/2 [==============================] - 3s 2s/step - loss: 0.6912 - accuracy: 0.5263 - val_loss: 0.8428 - val_accuracy: 0.4000\n",
      "Epoch 86/100\n",
      "2/2 [==============================] - 2s 1s/step - loss: 0.6925 - accuracy: 0.5263 - val_loss: 0.8033 - val_accuracy: 0.4667\n",
      "Epoch 87/100\n",
      "2/2 [==============================] - 2s 1s/step - loss: 0.6677 - accuracy: 0.6316 - val_loss: 0.7516 - val_accuracy: 0.4667\n",
      "Epoch 88/100\n",
      "2/2 [==============================] - 2s 1s/step - loss: 0.6998 - accuracy: 0.5263 - val_loss: 0.7691 - val_accuracy: 0.4667\n",
      "Epoch 89/100\n",
      "2/2 [==============================] - 2s 1s/step - loss: 0.6858 - accuracy: 0.5965 - val_loss: 0.7914 - val_accuracy: 0.4667\n",
      "Epoch 90/100\n",
      "2/2 [==============================] - 2s 1s/step - loss: 0.6873 - accuracy: 0.5965 - val_loss: 0.8314 - val_accuracy: 0.4667\n",
      "Epoch 91/100\n",
      "2/2 [==============================] - 2s 1s/step - loss: 0.6808 - accuracy: 0.6316 - val_loss: 0.7796 - val_accuracy: 0.4667\n",
      "Epoch 92/100\n",
      "2/2 [==============================] - 2s 1s/step - loss: 0.6730 - accuracy: 0.6140 - val_loss: 0.7905 - val_accuracy: 0.4667\n",
      "Epoch 93/100\n",
      "2/2 [==============================] - 2s 1s/step - loss: 0.6941 - accuracy: 0.5263 - val_loss: 0.8597 - val_accuracy: 0.4000\n",
      "Epoch 94/100\n",
      "2/2 [==============================] - 2s 1s/step - loss: 0.6848 - accuracy: 0.5614 - val_loss: 0.8032 - val_accuracy: 0.4667\n",
      "Epoch 95/100\n",
      "2/2 [==============================] - 2s 1s/step - loss: 0.6784 - accuracy: 0.6140 - val_loss: 0.7514 - val_accuracy: 0.4667\n",
      "Epoch 96/100\n",
      "2/2 [==============================] - 2s 1s/step - loss: 0.6990 - accuracy: 0.4912 - val_loss: 0.8061 - val_accuracy: 0.4667\n",
      "Epoch 97/100\n",
      "2/2 [==============================] - 7s 4s/step - loss: 0.6878 - accuracy: 0.5614 - val_loss: 0.7919 - val_accuracy: 0.4667\n",
      "Epoch 98/100\n",
      "2/2 [==============================] - 3s 2s/step - loss: 0.6607 - accuracy: 0.5439 - val_loss: 0.7533 - val_accuracy: 0.4667\n",
      "Epoch 99/100\n",
      "2/2 [==============================] - 3s 2s/step - loss: 0.6838 - accuracy: 0.4912 - val_loss: 0.7937 - val_accuracy: 0.4667\n",
      "Epoch 100/100\n",
      "2/2 [==============================] - 3s 2s/step - loss: 0.6890 - accuracy: 0.5088 - val_loss: 0.8972 - val_accuracy: 0.4000\n",
      "Epoch 1/100\n",
      "2/2 [==============================] - 20s 6s/step - loss: 1.5271 - accuracy: 0.5088 - val_loss: 1.1274 - val_accuracy: 0.4000\n",
      "Epoch 2/100\n",
      "2/2 [==============================] - 4s 3s/step - loss: 0.8361 - accuracy: 0.5965 - val_loss: 1.1205 - val_accuracy: 0.6000\n",
      "Epoch 3/100\n",
      "2/2 [==============================] - 5s 3s/step - loss: 1.2438 - accuracy: 0.4737 - val_loss: 0.6758 - val_accuracy: 0.6000\n",
      "Epoch 4/100\n",
      "2/2 [==============================] - 4s 3s/step - loss: 0.7542 - accuracy: 0.5263 - val_loss: 1.3573 - val_accuracy: 0.4000\n",
      "Epoch 5/100\n",
      "2/2 [==============================] - 6s 4s/step - loss: 1.0560 - accuracy: 0.5263 - val_loss: 0.8744 - val_accuracy: 0.4000\n",
      "Epoch 6/100\n",
      "2/2 [==============================] - 5s 3s/step - loss: 0.6819 - accuracy: 0.5789 - val_loss: 0.7056 - val_accuracy: 0.6000\n",
      "Epoch 7/100\n",
      "2/2 [==============================] - 4s 3s/step - loss: 0.8372 - accuracy: 0.4737 - val_loss: 0.7207 - val_accuracy: 0.6000\n",
      "Epoch 8/100\n",
      "2/2 [==============================] - 4s 3s/step - loss: 0.7947 - accuracy: 0.4737 - val_loss: 0.7398 - val_accuracy: 0.4000\n",
      "Epoch 9/100\n",
      "2/2 [==============================] - 4s 3s/step - loss: 0.7002 - accuracy: 0.5263 - val_loss: 0.8904 - val_accuracy: 0.4000\n",
      "Epoch 10/100\n",
      "2/2 [==============================] - 4s 3s/step - loss: 0.7748 - accuracy: 0.5263 - val_loss: 0.7391 - val_accuracy: 0.4000\n",
      "Epoch 11/100\n",
      "2/2 [==============================] - 4s 3s/step - loss: 0.6998 - accuracy: 0.4737 - val_loss: 0.6721 - val_accuracy: 0.6000\n",
      "Epoch 12/100\n",
      "2/2 [==============================] - 5s 3s/step - loss: 0.7258 - accuracy: 0.4737 - val_loss: 0.6713 - val_accuracy: 0.6000\n",
      "Epoch 13/100\n",
      "2/2 [==============================] - 5s 3s/step - loss: 0.7227 - accuracy: 0.4211 - val_loss: 0.7516 - val_accuracy: 0.4000\n",
      "Epoch 14/100\n",
      "2/2 [==============================] - 5s 3s/step - loss: 0.7135 - accuracy: 0.5263 - val_loss: 0.7453 - val_accuracy: 0.4000\n",
      "Epoch 15/100\n",
      "2/2 [==============================] - 4s 3s/step - loss: 0.7161 - accuracy: 0.4561 - val_loss: 0.6729 - val_accuracy: 0.6000\n",
      "Epoch 16/100\n",
      "2/2 [==============================] - 6s 4s/step - loss: 0.7020 - accuracy: 0.4737 - val_loss: 0.6727 - val_accuracy: 0.6000\n",
      "Epoch 17/100\n",
      "2/2 [==============================] - 6s 4s/step - loss: 0.6973 - accuracy: 0.4737 - val_loss: 0.7202 - val_accuracy: 0.4667\n",
      "Epoch 18/100\n",
      "2/2 [==============================] - 6s 4s/step - loss: 0.6965 - accuracy: 0.5263 - val_loss: 0.7079 - val_accuracy: 0.4000\n",
      "Epoch 19/100\n",
      "2/2 [==============================] - 4s 3s/step - loss: 0.6945 - accuracy: 0.5614 - val_loss: 0.6758 - val_accuracy: 0.6000\n",
      "Epoch 20/100\n",
      "2/2 [==============================] - 4s 3s/step - loss: 0.6857 - accuracy: 0.5789 - val_loss: 0.6854 - val_accuracy: 0.6000\n",
      "Epoch 21/100\n",
      "2/2 [==============================] - 6s 4s/step - loss: 0.6875 - accuracy: 0.5614 - val_loss: 0.6885 - val_accuracy: 0.5333\n",
      "Epoch 22/100\n",
      "2/2 [==============================] - 6s 4s/step - loss: 0.6924 - accuracy: 0.5263 - val_loss: 0.6859 - val_accuracy: 0.6000\n",
      "Epoch 23/100\n",
      "2/2 [==============================] - 7s 4s/step - loss: 0.6905 - accuracy: 0.5263 - val_loss: 0.6874 - val_accuracy: 0.5333\n",
      "Epoch 24/100\n",
      "2/2 [==============================] - 6s 4s/step - loss: 0.6874 - accuracy: 0.5439 - val_loss: 0.6842 - val_accuracy: 0.6000\n",
      "Epoch 25/100\n",
      "2/2 [==============================] - 5s 3s/step - loss: 0.6945 - accuracy: 0.5088 - val_loss: 0.6706 - val_accuracy: 0.6000\n",
      "Epoch 26/100\n",
      "2/2 [==============================] - 5s 3s/step - loss: 0.6911 - accuracy: 0.5263 - val_loss: 0.6811 - val_accuracy: 0.6667\n",
      "Epoch 27/100\n",
      "2/2 [==============================] - 5s 3s/step - loss: 0.7016 - accuracy: 0.5789 - val_loss: 0.7244 - val_accuracy: 0.4667\n",
      "Epoch 28/100\n",
      "2/2 [==============================] - 4s 3s/step - loss: 0.6951 - accuracy: 0.5439 - val_loss: 0.6771 - val_accuracy: 0.6667\n",
      "Epoch 29/100\n",
      "2/2 [==============================] - 4s 3s/step - loss: 0.6950 - accuracy: 0.5439 - val_loss: 0.6681 - val_accuracy: 0.6000\n",
      "Epoch 30/100\n",
      "2/2 [==============================] - 5s 3s/step - loss: 0.7102 - accuracy: 0.4737 - val_loss: 0.6863 - val_accuracy: 0.5333\n",
      "Epoch 31/100\n",
      "2/2 [==============================] - 6s 4s/step - loss: 0.7006 - accuracy: 0.5088 - val_loss: 0.7409 - val_accuracy: 0.4667\n",
      "Epoch 32/100\n",
      "2/2 [==============================] - 6s 3s/step - loss: 0.7026 - accuracy: 0.5439 - val_loss: 0.6725 - val_accuracy: 0.6667\n",
      "Epoch 33/100\n",
      "2/2 [==============================] - 9s 8s/step - loss: 0.7037 - accuracy: 0.4561 - val_loss: 0.6673 - val_accuracy: 0.6000\n",
      "Epoch 34/100\n",
      "2/2 [==============================] - 6s 4s/step - loss: 0.6937 - accuracy: 0.4561 - val_loss: 0.6921 - val_accuracy: 0.5333\n",
      "Epoch 35/100\n",
      "2/2 [==============================] - 6s 3s/step - loss: 0.6953 - accuracy: 0.5263 - val_loss: 0.7294 - val_accuracy: 0.4667\n",
      "Epoch 36/100\n",
      "2/2 [==============================] - 10s 8s/step - loss: 0.7063 - accuracy: 0.5439 - val_loss: 0.6667 - val_accuracy: 0.6000\n",
      "Epoch 37/100\n",
      "2/2 [==============================] - 5s 3s/step - loss: 0.6906 - accuracy: 0.4386 - val_loss: 0.6709 - val_accuracy: 0.6667\n",
      "Epoch 38/100\n",
      "2/2 [==============================] - 4s 3s/step - loss: 0.6814 - accuracy: 0.5439 - val_loss: 0.6830 - val_accuracy: 0.6000\n",
      "Epoch 39/100\n",
      "2/2 [==============================] - 5s 3s/step - loss: 0.6825 - accuracy: 0.5965 - val_loss: 0.6913 - val_accuracy: 0.5333\n",
      "Epoch 40/100\n",
      "2/2 [==============================] - 5s 3s/step - loss: 0.6895 - accuracy: 0.5614 - val_loss: 0.6712 - val_accuracy: 0.6667\n",
      "Epoch 41/100\n",
      "2/2 [==============================] - 5s 3s/step - loss: 0.6972 - accuracy: 0.4211 - val_loss: 0.6675 - val_accuracy: 0.6000\n",
      "Epoch 42/100\n",
      "2/2 [==============================] - 5s 3s/step - loss: 0.6813 - accuracy: 0.6140 - val_loss: 0.6989 - val_accuracy: 0.4000\n",
      "Epoch 43/100\n",
      "2/2 [==============================] - 5s 3s/step - loss: 0.6893 - accuracy: 0.5439 - val_loss: 0.6861 - val_accuracy: 0.5333\n",
      "Epoch 44/100\n",
      "2/2 [==============================] - 5s 3s/step - loss: 0.6925 - accuracy: 0.4737 - val_loss: 0.6647 - val_accuracy: 0.6000\n",
      "Epoch 45/100\n",
      "2/2 [==============================] - 4s 3s/step - loss: 0.6926 - accuracy: 0.5088 - val_loss: 0.6733 - val_accuracy: 0.6667\n",
      "Epoch 46/100\n",
      "2/2 [==============================] - 5s 3s/step - loss: 0.6893 - accuracy: 0.5614 - val_loss: 0.6729 - val_accuracy: 0.6667\n",
      "Epoch 47/100\n",
      "2/2 [==============================] - 4s 3s/step - loss: 0.6924 - accuracy: 0.5614 - val_loss: 0.6744 - val_accuracy: 0.6667\n",
      "Epoch 48/100\n",
      "2/2 [==============================] - 5s 3s/step - loss: 0.7274 - accuracy: 0.4561 - val_loss: 0.6650 - val_accuracy: 0.6000\n",
      "Epoch 49/100\n",
      "2/2 [==============================] - 5s 3s/step - loss: 0.7298 - accuracy: 0.4211 - val_loss: 0.7186 - val_accuracy: 0.3333\n",
      "Epoch 50/100\n",
      "2/2 [==============================] - 5s 3s/step - loss: 0.7149 - accuracy: 0.5439 - val_loss: 0.6693 - val_accuracy: 0.7333\n",
      "Epoch 51/100\n",
      "2/2 [==============================] - 5s 3s/step - loss: 0.6878 - accuracy: 0.5439 - val_loss: 0.6746 - val_accuracy: 0.6000\n",
      "Epoch 52/100\n",
      "2/2 [==============================] - 5s 3s/step - loss: 0.7154 - accuracy: 0.4386 - val_loss: 0.6817 - val_accuracy: 0.6000\n",
      "Epoch 53/100\n",
      "2/2 [==============================] - 5s 3s/step - loss: 0.6836 - accuracy: 0.5439 - val_loss: 0.6940 - val_accuracy: 0.4667\n",
      "Epoch 54/100\n",
      "2/2 [==============================] - 5s 3s/step - loss: 0.6957 - accuracy: 0.6140 - val_loss: 0.6644 - val_accuracy: 0.6667\n",
      "Epoch 55/100\n",
      "2/2 [==============================] - 4s 3s/step - loss: 0.7012 - accuracy: 0.4386 - val_loss: 0.6679 - val_accuracy: 0.7333\n",
      "Epoch 56/100\n",
      "2/2 [==============================] - 4s 3s/step - loss: 0.6877 - accuracy: 0.6140 - val_loss: 0.7050 - val_accuracy: 0.4000\n",
      "Epoch 57/100\n",
      "2/2 [==============================] - 4s 3s/step - loss: 0.6901 - accuracy: 0.5614 - val_loss: 0.6678 - val_accuracy: 0.7333\n",
      "Epoch 58/100\n",
      "2/2 [==============================] - 4s 3s/step - loss: 0.6854 - accuracy: 0.5439 - val_loss: 0.6638 - val_accuracy: 0.6000\n",
      "Epoch 59/100\n",
      "2/2 [==============================] - 4s 3s/step - loss: 0.6907 - accuracy: 0.5263 - val_loss: 0.6637 - val_accuracy: 0.6000\n",
      "Epoch 60/100\n",
      "2/2 [==============================] - 4s 3s/step - loss: 0.6851 - accuracy: 0.5263 - val_loss: 0.6789 - val_accuracy: 0.6000\n",
      "Epoch 61/100\n",
      "2/2 [==============================] - 4s 3s/step - loss: 0.6935 - accuracy: 0.5614 - val_loss: 0.6974 - val_accuracy: 0.4667\n",
      "Epoch 62/100\n",
      "2/2 [==============================] - 4s 3s/step - loss: 0.6998 - accuracy: 0.5263 - val_loss: 0.6638 - val_accuracy: 0.6000\n",
      "Epoch 63/100\n",
      "2/2 [==============================] - 5s 3s/step - loss: 0.6869 - accuracy: 0.5263 - val_loss: 0.6665 - val_accuracy: 0.7333\n",
      "Epoch 64/100\n",
      "2/2 [==============================] - 5s 3s/step - loss: 0.6832 - accuracy: 0.5439 - val_loss: 0.6913 - val_accuracy: 0.4667\n",
      "Epoch 65/100\n",
      "2/2 [==============================] - 4s 3s/step - loss: 0.7300 - accuracy: 0.5263 - val_loss: 0.6865 - val_accuracy: 0.5333\n",
      "Epoch 66/100\n",
      "2/2 [==============================] - 5s 4s/step - loss: 0.6970 - accuracy: 0.5263 - val_loss: 0.6768 - val_accuracy: 0.6000\n",
      "Epoch 67/100\n",
      "2/2 [==============================] - 6s 4s/step - loss: 0.7204 - accuracy: 0.3509 - val_loss: 0.6834 - val_accuracy: 0.5333\n",
      "Epoch 68/100\n",
      "2/2 [==============================] - 6s 4s/step - loss: 0.7002 - accuracy: 0.5439 - val_loss: 0.6898 - val_accuracy: 0.4667\n",
      "Epoch 69/100\n",
      "2/2 [==============================] - 6s 4s/step - loss: 0.6858 - accuracy: 0.5614 - val_loss: 0.6633 - val_accuracy: 0.6000\n",
      "Epoch 70/100\n",
      "2/2 [==============================] - 5s 3s/step - loss: 0.7074 - accuracy: 0.5439 - val_loss: 0.6632 - val_accuracy: 0.6000\n",
      "Epoch 71/100\n",
      "2/2 [==============================] - 4s 3s/step - loss: 0.6757 - accuracy: 0.6491 - val_loss: 0.7103 - val_accuracy: 0.4000\n",
      "Epoch 72/100\n",
      "2/2 [==============================] - 4s 3s/step - loss: 0.7181 - accuracy: 0.5439 - val_loss: 0.6877 - val_accuracy: 0.5333\n",
      "Epoch 73/100\n",
      "2/2 [==============================] - 4s 3s/step - loss: 0.6732 - accuracy: 0.5789 - val_loss: 0.6670 - val_accuracy: 0.6000\n",
      "Epoch 74/100\n",
      "2/2 [==============================] - 4s 3s/step - loss: 0.6988 - accuracy: 0.4737 - val_loss: 0.6627 - val_accuracy: 0.6000\n",
      "Epoch 75/100\n",
      "2/2 [==============================] - 4s 3s/step - loss: 0.7562 - accuracy: 0.4737 - val_loss: 0.7255 - val_accuracy: 0.3333\n",
      "Epoch 76/100\n",
      "2/2 [==============================] - 4s 3s/step - loss: 0.7462 - accuracy: 0.4386 - val_loss: 0.6707 - val_accuracy: 0.6000\n",
      "Epoch 77/100\n",
      "2/2 [==============================] - 4s 3s/step - loss: 0.7027 - accuracy: 0.4912 - val_loss: 0.6694 - val_accuracy: 0.6667\n",
      "Epoch 78/100\n",
      "2/2 [==============================] - 4s 3s/step - loss: 0.6835 - accuracy: 0.5614 - val_loss: 0.6958 - val_accuracy: 0.4667\n",
      "Epoch 79/100\n",
      "2/2 [==============================] - 4s 3s/step - loss: 0.6984 - accuracy: 0.5614 - val_loss: 0.6616 - val_accuracy: 0.6000\n",
      "Epoch 80/100\n",
      "2/2 [==============================] - 4s 3s/step - loss: 0.6983 - accuracy: 0.4561 - val_loss: 0.6664 - val_accuracy: 0.7333\n",
      "Epoch 81/100\n",
      "2/2 [==============================] - 4s 3s/step - loss: 0.6831 - accuracy: 0.5965 - val_loss: 0.7093 - val_accuracy: 0.4000\n",
      "Epoch 82/100\n",
      "2/2 [==============================] - 4s 3s/step - loss: 0.7138 - accuracy: 0.5614 - val_loss: 0.6666 - val_accuracy: 0.7333\n",
      "Epoch 83/100\n",
      "2/2 [==============================] - 5s 3s/step - loss: 0.6831 - accuracy: 0.5614 - val_loss: 0.6629 - val_accuracy: 0.6000\n",
      "Epoch 84/100\n",
      "2/2 [==============================] - 5s 3s/step - loss: 0.6920 - accuracy: 0.4912 - val_loss: 0.6614 - val_accuracy: 0.6000\n",
      "Epoch 85/100\n",
      "2/2 [==============================] - 5s 3s/step - loss: 0.6870 - accuracy: 0.4737 - val_loss: 0.6782 - val_accuracy: 0.6000\n",
      "Epoch 86/100\n",
      "2/2 [==============================] - 6s 4s/step - loss: 0.6832 - accuracy: 0.5439 - val_loss: 0.6896 - val_accuracy: 0.4667\n",
      "Epoch 87/100\n",
      "2/2 [==============================] - 5s 3s/step - loss: 0.6987 - accuracy: 0.5614 - val_loss: 0.6628 - val_accuracy: 0.8000\n",
      "Epoch 88/100\n",
      "2/2 [==============================] - 5s 3s/step - loss: 0.7195 - accuracy: 0.4035 - val_loss: 0.6639 - val_accuracy: 0.6000\n",
      "Epoch 89/100\n",
      "2/2 [==============================] - 4s 3s/step - loss: 0.7035 - accuracy: 0.4737 - val_loss: 0.6958 - val_accuracy: 0.4667\n",
      "Epoch 90/100\n",
      "2/2 [==============================] - 5s 3s/step - loss: 0.7048 - accuracy: 0.5614 - val_loss: 0.6677 - val_accuracy: 0.6667\n",
      "Epoch 91/100\n",
      "2/2 [==============================] - 4s 3s/step - loss: 0.6784 - accuracy: 0.5263 - val_loss: 0.6688 - val_accuracy: 0.6000\n",
      "Epoch 92/100\n",
      "2/2 [==============================] - 6s 4s/step - loss: 0.7074 - accuracy: 0.4561 - val_loss: 0.6700 - val_accuracy: 0.6667\n",
      "Epoch 93/100\n",
      "2/2 [==============================] - 7s 6s/step - loss: 0.6743 - accuracy: 0.5789 - val_loss: 0.6790 - val_accuracy: 0.6000\n",
      "Epoch 94/100\n",
      "2/2 [==============================] - 6s 4s/step - loss: 0.6933 - accuracy: 0.5614 - val_loss: 0.6624 - val_accuracy: 0.8000\n",
      "Epoch 95/100\n",
      "2/2 [==============================] - 8s 5s/step - loss: 0.6881 - accuracy: 0.4561 - val_loss: 0.6632 - val_accuracy: 0.7333\n",
      "Epoch 96/100\n",
      "2/2 [==============================] - 6s 4s/step - loss: 0.7009 - accuracy: 0.5789 - val_loss: 0.6785 - val_accuracy: 0.6000\n",
      "Epoch 97/100\n",
      "2/2 [==============================] - 7s 5s/step - loss: 0.6977 - accuracy: 0.5263 - val_loss: 0.6622 - val_accuracy: 0.6000\n",
      "Epoch 98/100\n",
      "2/2 [==============================] - 6s 4s/step - loss: 0.7155 - accuracy: 0.4035 - val_loss: 0.6841 - val_accuracy: 0.5333\n",
      "Epoch 99/100\n",
      "2/2 [==============================] - 9s 7s/step - loss: 0.7044 - accuracy: 0.4561 - val_loss: 0.6601 - val_accuracy: 0.6000\n",
      "Epoch 100/100\n",
      "2/2 [==============================] - 6s 4s/step - loss: 0.6796 - accuracy: 0.5088 - val_loss: 0.6748 - val_accuracy: 0.6000\n"
     ]
    }
   ],
   "source": [
    "sp_3=model3.fit(datagen.flow(trainx_sp,trainy_sp,batch_size=32),validation_data=(validx_sp, validy_sp),epochs=100)\n",
    "wa_4=model4.fit(datagen.flow(trainx_wa,trainy_wa,batch_size=32),validation_data=(validx_wa, validy_wa),epochs=100)"
   ]
  },
  {
   "cell_type": "code",
   "execution_count": 76,
   "metadata": {},
   "outputs": [
    {
     "name": "stdout",
     "output_type": "stream",
     "text": [
      "1/1 [==============================] - 4s 4s/step\n",
      "              precision    recall  f1-score   support\n",
      "\n",
      "           0       0.40      1.00      0.57         6\n",
      "           1       0.00      0.00      0.00         9\n",
      "\n",
      "    accuracy                           0.40        15\n",
      "   macro avg       0.20      0.50      0.29        15\n",
      "weighted avg       0.16      0.40      0.23        15\n",
      "\n"
     ]
    },
    {
     "name": "stderr",
     "output_type": "stream",
     "text": [
      "c:\\Users\\adity\\AppData\\Local\\Programs\\Python\\Python310\\lib\\site-packages\\sklearn\\metrics\\_classification.py:1334: UndefinedMetricWarning: Precision and F-score are ill-defined and being set to 0.0 in labels with no predicted samples. Use `zero_division` parameter to control this behavior.\n",
      "  _warn_prf(average, modifier, msg_start, len(result))\n",
      "c:\\Users\\adity\\AppData\\Local\\Programs\\Python\\Python310\\lib\\site-packages\\sklearn\\metrics\\_classification.py:1334: UndefinedMetricWarning: Precision and F-score are ill-defined and being set to 0.0 in labels with no predicted samples. Use `zero_division` parameter to control this behavior.\n",
      "  _warn_prf(average, modifier, msg_start, len(result))\n",
      "c:\\Users\\adity\\AppData\\Local\\Programs\\Python\\Python310\\lib\\site-packages\\sklearn\\metrics\\_classification.py:1334: UndefinedMetricWarning: Precision and F-score are ill-defined and being set to 0.0 in labels with no predicted samples. Use `zero_division` parameter to control this behavior.\n",
      "  _warn_prf(average, modifier, msg_start, len(result))\n"
     ]
    }
   ],
   "source": [
    "y_pred_sp = model3.predict(validx_sp)\n",
    "pred_sp = np.argmax(y_pred_sp,axis=1)\n",
    "true_sp = np.argmax(validy_sp,axis=1)\n",
    "print(classification_report(true_sp,pred_sp))"
   ]
  },
  {
   "cell_type": "code",
   "execution_count": 77,
   "metadata": {},
   "outputs": [
    {
     "name": "stdout",
     "output_type": "stream",
     "text": [
      "1/1 [==============================] - 4s 4s/step\n",
      "              precision    recall  f1-score   support\n",
      "\n",
      "           0       0.50      0.67      0.57         6\n",
      "           1       0.71      0.56      0.63         9\n",
      "\n",
      "    accuracy                           0.60        15\n",
      "   macro avg       0.61      0.61      0.60        15\n",
      "weighted avg       0.63      0.60      0.60        15\n",
      "\n"
     ]
    }
   ],
   "source": [
    "y_pred_wa = model4.predict(validx_wa)\n",
    "pred_wa = np.argmax(y_pred_wa,axis=1)\n",
    "true_wa = np.argmax(validy_wa,axis=1)\n",
    "print(classification_report(true_wa,pred_wa))"
   ]
  },
  {
   "cell_type": "code",
   "execution_count": 78,
   "metadata": {},
   "outputs": [
    {
     "data": {
      "image/png": "[encoded data removed]",
      "text/plain": [
       "<Figure size 432x288 with 1 Axes>"
      ]
     },
     "metadata": {
      "needs_background": "light"
     },
     "output_type": "display_data"
    },
    {
     "data": {
      "text/plain": [
       "<Figure size 432x288 with 0 Axes>"
      ]
     },
     "metadata": {},
     "output_type": "display_data"
    },
    {
     "data": {
      "image/png": "[encoded data removed]",
      "text/plain": [
       "<Figure size 432x288 with 1 Axes>"
      ]
     },
     "metadata": {
      "needs_background": "light"
     },
     "output_type": "display_data"
    },
    {
     "data": {
      "text/plain": [
       "<Figure size 432x288 with 0 Axes>"
      ]
     },
     "metadata": {},
     "output_type": "display_data"
    }
   ],
   "source": [
    "get_acc3 = sp_3.history['accuracy']\n",
    "value_acc3 = sp_3.history['val_accuracy']\n",
    "get_loss3 = sp_3.history['loss']\n",
    "validation_loss3 = sp_3.history['val_loss']\n",
    "\n",
    "epochs3 = range(len(get_acc3))\n",
    "plt.plot(epochs3, get_acc3, 'r',label='Accuracy of Training data')\n",
    "plt.plot(epochs3, value_acc3, 'b',label='Accuracy of Validation data')\n",
    "plt.title(\"Training vs validation accuracy - Spiral\")\n",
    "plt.legend(loc=0)\n",
    "plt.figure()\n",
    "plt.show()\n",
    "epochs3 = range(len(get_loss3))\n",
    "plt.plot(epochs3, get_loss3, 'r',label='Loss of Training data')\n",
    "plt.plot(epochs3, validation_loss3, 'b',label='Loss of Validation data')\n",
    "plt.title(\"Training vs validation loss - Spiral\")\n",
    "plt.legend(loc=0)\n",
    "plt.figure()\n",
    "plt.show()"
   ]
  },
  {
   "cell_type": "code",
   "execution_count": 79,
   "metadata": {},
   "outputs": [
    {
     "data": {
      "image/png": "[encoded data removed]",
      "text/plain": [
       "<Figure size 432x288 with 1 Axes>"
      ]
     },
     "metadata": {
      "needs_background": "light"
     },
     "output_type": "display_data"
    },
    {
     "data": {
      "text/plain": [
       "<Figure size 432x288 with 0 Axes>"
      ]
     },
     "metadata": {},
     "output_type": "display_data"
    },
    {
     "data": {
      "image/png": "[encoded data removed]",
      "text/plain": [
       "<Figure size 432x288 with 1 Axes>"
      ]
     },
     "metadata": {
      "needs_background": "light"
     },
     "output_type": "display_data"
    },
    {
     "data": {
      "text/plain": [
       "<Figure size 432x288 with 0 Axes>"
      ]
     },
     "metadata": {},
     "output_type": "display_data"
    }
   ],
   "source": [
    "get_acc4 = wa_4.history['accuracy']\n",
    "value_acc4 = wa_4.history['val_accuracy']\n",
    "get_loss4 = wa_4.history['loss']\n",
    "validation_loss4 = wa_4.history['val_loss']\n",
    "\n",
    "epochs4 = range(len(get_acc4))\n",
    "plt.plot(epochs4, get_acc4, 'r',label='Accuracy of Training data')\n",
    "plt.plot(epochs4, value_acc4, 'b',label='Accuracy of Validation data')\n",
    "plt.title(\"Training vs validation accuracy - Wave\")\n",
    "plt.legend(loc=0)\n",
    "plt.figure()\n",
    "plt.show()\n",
    "epochs4 = range(len(get_loss4))\n",
    "plt.plot(epochs4, get_loss4, 'r',label='Loss of Training data')\n",
    "plt.plot(epochs4, validation_loss4, 'b',label='Loss of Validation data')\n",
    "plt.title(\"Training vs validation loss - Wave\")\n",
    "plt.legend(loc=0)\n",
    "plt.figure()\n",
    "plt.show()"
   ]
  },
  {
   "cell_type": "code",
   "execution_count": null,
   "metadata": {},
   "outputs": [],
   "source": []
  }
 ],
 "metadata": {
  "kernelspec": {
   "display_name": "Python 3",
   "language": "python",
   "name": "python3"
  },
  "language_info": {
   "codemirror_mode": {
    "name": "ipython",
    "version": 3
   },
   "file_extension": ".py",
   "mimetype": "text/x-python",
   "name": "python",
   "nbconvert_exporter": "python",
   "pygments_lexer": "ipython3",
   "version": "3.10.2"
  },
  "orig_nbformat": 4
 },
 "nbformat": 4,
 "nbformat_minor": 2
}
