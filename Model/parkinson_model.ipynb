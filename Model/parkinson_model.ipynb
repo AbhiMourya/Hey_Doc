{
 "cells": [
  {
   "attachments": {},
   "cell_type": "markdown",
   "metadata": {},
   "source": [
    "#### Import required libraries:"
   ]
  },
  {
   "cell_type": "code",
   "execution_count": 23,
   "metadata": {},
   "outputs": [],
   "source": [
    "import os\n",
    "from sklearn.model_selection import train_test_split\n",
    "from tensorflow.keras.utils import load_img, img_to_array , to_categorical\n",
    "import numpy as np\n",
    "import tensorflow as tf\n",
    "import matplotlib.pyplot as plt"
   ]
  },
  {
   "attachments": {},
   "cell_type": "markdown",
   "metadata": {},
   "source": [
    "#### Initializing data folders"
   ]
  },
  {
   "cell_type": "code",
   "execution_count": 21,
   "metadata": {},
   "outputs": [],
   "source": [
    "dir_sp_train = \"drawings/spiral/training\"\n",
    "dir_sp_test = \"drawings/spiral/testing\"\n",
    "dir_wa_train = \"drawings/wave/training\"\n",
    "dir_wa_test = \"drawings/wave/testing\""
   ]
  },
  {
   "cell_type": "code",
   "execution_count": 22,
   "metadata": {},
   "outputs": [
    {
     "name": "stdout",
     "output_type": "stream",
     "text": [
      "['healthy', 'parkinson']\n"
     ]
    }
   ],
   "source": [
    "Name = []\n",
    "for file in os.listdir(dir_sp_train):\n",
    "    Name+=[file]\n",
    "print (Name)"
   ]
  },
  {
   "cell_type": "code",
   "execution_count": 12,
   "metadata": {},
   "outputs": [],
   "source": [
    "# Mapping image to tag\n",
    "N = []\n",
    "for i in range(len(Name)):\n",
    "    N+=[i]\n",
    "\n",
    "reverse_mapping = dict(zip(N,Name))\n",
    "\n",
    "#function for getting 0(healthy) and 1(parkinson)\n",
    "def mapper(value):\n",
    "    return reverse_mapping[value]"
   ]
  },
  {
   "cell_type": "code",
   "execution_count": 13,
   "metadata": {},
   "outputs": [],
   "source": [
    "# Creating training dataset for spiral images \n",
    "dataset_sp = []\n",
    "count = 0\n",
    "for file in os.listdir(dir_sp_train):\n",
    "    path = os.path.join(dir_sp_train,file)\n",
    "    for im in os.listdir(path):\n",
    "        image = load_img(os.path.join(path,im),grayscale=False,color_mode = 'rgb' ,target_size = (100,100))\n",
    "        image = img_to_array(image)\n",
    "        image = image/255.0\n",
    "        dataset_sp.append([image,count])\n",
    "    count+=1\n",
    "\n",
    "# Creating testing dataset for spiral images \n",
    "testset_sp = []\n",
    "count = 0\n",
    "for file in os.listdir(dir_sp_test):\n",
    "    path = os.path.join(dir_sp_test,file)\n",
    "    for im in os.listdir(path):\n",
    "        image = load_img(os.path.join(path,im),grayscale=False,color_mode = 'rgb' ,target_size = (100,100))\n",
    "        image = img_to_array(image)\n",
    "        image = image/255.0\n",
    "        testset_sp.append([image,count])\n",
    "    count+=1"
   ]
  },
  {
   "cell_type": "code",
   "execution_count": 14,
   "metadata": {},
   "outputs": [],
   "source": [
    "# Creating training dataset for wave images \n",
    "dataset_wa = []\n",
    "count = 0\n",
    "for file in os.listdir(dir_wa_train):\n",
    "    path = os.path.join(dir_wa_train,file)\n",
    "    for im in os.listdir(path):\n",
    "        image = load_img(os.path.join(path,im),grayscale=False,color_mode = 'rgb' ,target_size = (100,100))\n",
    "        image = img_to_array(image)\n",
    "        image = image/255.0\n",
    "        dataset_wa.append([image,count])\n",
    "    count+=1\n",
    "\n",
    "# Creating testing dataset for wave images \n",
    "testset_wa = []\n",
    "count = 0\n",
    "for file in os.listdir(dir_wa_test):\n",
    "    path = os.path.join(dir_wa_test,file)\n",
    "    for im in os.listdir(path):\n",
    "        image = load_img(os.path.join(path,im),grayscale=False,color_mode = 'rgb' ,target_size = (100,100))\n",
    "        image = img_to_array(image)\n",
    "        image = image/255.0\n",
    "        testset_wa.append([image,count])\n",
    "    count+=1\n",
    "        "
   ]
  },
  {
   "cell_type": "code",
   "execution_count": 15,
   "metadata": {},
   "outputs": [],
   "source": [
    "# Spliting image and it's label\n",
    "data_sp,lables_sp0 = zip(*dataset_sp)\n",
    "test_sp,tlables_sp0 = zip(*testset_sp)\n",
    "\n",
    "data_wa,lables_wa0 = zip(*dataset_wa)\n",
    "test_wa,tlables_wa0 = zip(*testset_wa)"
   ]
  },
  {
   "cell_type": "code",
   "execution_count": 16,
   "metadata": {},
   "outputs": [],
   "source": [
    "# Converting labels to numerical(binary) for spiral images\n",
    "lables_sp1 = to_categorical(lables_sp0)\n",
    "data_sp = np.array(data_sp)\n",
    "lables_sp = np.array(lables_sp1)\n",
    "\n",
    "tlables_sp1 = to_categorical(tlables_sp0)\n",
    "test_sp = np.array(test_sp)\n",
    "tlables_sp = np.array(tlables_sp1)"
   ]
  },
  {
   "cell_type": "code",
   "execution_count": 17,
   "metadata": {},
   "outputs": [],
   "source": [
    "# Converting labels to numerical(binary) data for wave images\n",
    "lables_wa1 = to_categorical(lables_wa0)\n",
    "data_wa = np.array(data_wa)\n",
    "lables_wa = np.array(lables_wa1)\n",
    "\n",
    "tlables_wa1 = to_categorical(tlables_wa0)\n",
    "test_wa = np.array(test_wa)\n",
    "tlables_wa = np.array(tlables_wa1)"
   ]
  },
  {
   "cell_type": "code",
   "execution_count": 18,
   "metadata": {},
   "outputs": [],
   "source": [
    "# Spiliting data into train and validation data\n",
    "trainx_sp,validx_sp,trainy_sp,validy_sp = train_test_split(data_sp,lables_sp,test_size=0.2,random_state=44)\n",
    "trainx_wa,validx_wa,trainy_wa,validy_wa = train_test_split(data_wa,lables_wa,test_size=0.2,random_state=44)"
   ]
  },
  {
   "cell_type": "code",
   "execution_count": 19,
   "metadata": {},
   "outputs": [
    {
     "name": "stdout",
     "output_type": "stream",
     "text": [
      "(57, 100, 100, 3)\n",
      "(15, 100, 100, 3)\n",
      "(57, 2)\n",
      "(15, 2)\n"
     ]
    }
   ],
   "source": [
    "# Viewing shape of data of spiral\n",
    "print(trainx_sp.shape)\n",
    "print(validx_sp.shape)\n",
    "print(trainy_sp.shape)\n",
    "print(validy_sp.shape)"
   ]
  },
  {
   "cell_type": "code",
   "execution_count": 24,
   "metadata": {},
   "outputs": [
    {
     "name": "stdout",
     "output_type": "stream",
     "text": [
      "(57, 100, 100, 3)\n",
      "(15, 100, 100, 3)\n",
      "(57, 2)\n",
      "(15, 2)\n"
     ]
    }
   ],
   "source": [
    "# Viewing shape of data of wave\n",
    "print(trainx_wa.shape)\n",
    "print(validx_wa.shape)\n",
    "print(trainy_wa.shape)\n",
    "print(validy_wa.shape)"
   ]
  },
  {
   "cell_type": "code",
   "execution_count": null,
   "metadata": {},
   "outputs": [],
   "source": []
  }
 ],
 "metadata": {
  "kernelspec": {
   "display_name": "Python 3",
   "language": "python",
   "name": "python3"
  },
  "language_info": {
   "codemirror_mode": {
    "name": "ipython",
    "version": 3
   },
   "file_extension": ".py",
   "mimetype": "text/x-python",
   "name": "python",
   "nbconvert_exporter": "python",
   "pygments_lexer": "ipython3",
   "version": "3.10.11"
  },
  "orig_nbformat": 4
 },
 "nbformat": 4,
 "nbformat_minor": 2
}
